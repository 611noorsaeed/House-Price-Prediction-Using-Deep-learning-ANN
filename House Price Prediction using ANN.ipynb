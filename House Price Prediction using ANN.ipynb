{
 "cells": [
  {
   "cell_type": "markdown",
   "id": "ac3f44ea",
   "metadata": {},
   "source": [
    "# Import packages"
   ]
  },
  {
   "cell_type": "code",
   "execution_count": 1,
   "id": "b9c83890",
   "metadata": {},
   "outputs": [],
   "source": [
    "import numpy as np\n",
    "import pandas as pd\n",
    "import matplotlib.pyplot as plt\n",
    "import seaborn as sns\n",
    "\n",
    "# Data preprocessing\n",
    "from sklearn.preprocessing import MinMaxScaler\n",
    "from sklearn.model_selection import train_test_split\n",
    "\n",
    "# Neural net moduel\n",
    "from keras.models import Sequential # create a linear stack of neural network layers.\n",
    "from keras.layers import Dense, Dropout # is a module that provides various layer types, including Dense and Dropout, used to define the architecture of the neural network.\n",
    "from keras.callbacks import EarlyStopping # callback is used to monitor the validation loss during training. If the validation loss stops improving for a specified number of epochs (in this case, 10), training is stopped early. This helps prevent overfitting"
   ]
  },
  {
   "cell_type": "markdown",
   "id": "449e33bc",
   "metadata": {},
   "source": [
    "# Read in the data \n"
   ]
  },
  {
   "cell_type": "code",
   "execution_count": 2,
   "id": "99dd924b",
   "metadata": {},
   "outputs": [
    {
     "data": {
      "text/html": [
       "<div>\n",
       "<style scoped>\n",
       "    .dataframe tbody tr th:only-of-type {\n",
       "        vertical-align: middle;\n",
       "    }\n",
       "\n",
       "    .dataframe tbody tr th {\n",
       "        vertical-align: top;\n",
       "    }\n",
       "\n",
       "    .dataframe thead th {\n",
       "        text-align: right;\n",
       "    }\n",
       "</style>\n",
       "<table border=\"1\" class=\"dataframe\">\n",
       "  <thead>\n",
       "    <tr style=\"text-align: right;\">\n",
       "      <th></th>\n",
       "      <th>longitude</th>\n",
       "      <th>latitude</th>\n",
       "      <th>housing_median_age</th>\n",
       "      <th>total_rooms</th>\n",
       "      <th>total_bedrooms</th>\n",
       "      <th>population</th>\n",
       "      <th>households</th>\n",
       "      <th>median_income</th>\n",
       "      <th>median_house_value</th>\n",
       "      <th>ocean_proximity</th>\n",
       "    </tr>\n",
       "  </thead>\n",
       "  <tbody>\n",
       "    <tr>\n",
       "      <th>0</th>\n",
       "      <td>-122.23</td>\n",
       "      <td>37.88</td>\n",
       "      <td>41.0</td>\n",
       "      <td>880.0</td>\n",
       "      <td>129.0</td>\n",
       "      <td>322.0</td>\n",
       "      <td>126.0</td>\n",
       "      <td>8.3252</td>\n",
       "      <td>452600.0</td>\n",
       "      <td>NEAR BAY</td>\n",
       "    </tr>\n",
       "    <tr>\n",
       "      <th>1</th>\n",
       "      <td>-122.22</td>\n",
       "      <td>37.86</td>\n",
       "      <td>21.0</td>\n",
       "      <td>7099.0</td>\n",
       "      <td>1106.0</td>\n",
       "      <td>2401.0</td>\n",
       "      <td>1138.0</td>\n",
       "      <td>8.3014</td>\n",
       "      <td>358500.0</td>\n",
       "      <td>NEAR BAY</td>\n",
       "    </tr>\n",
       "    <tr>\n",
       "      <th>2</th>\n",
       "      <td>-122.24</td>\n",
       "      <td>37.85</td>\n",
       "      <td>52.0</td>\n",
       "      <td>1467.0</td>\n",
       "      <td>190.0</td>\n",
       "      <td>496.0</td>\n",
       "      <td>177.0</td>\n",
       "      <td>7.2574</td>\n",
       "      <td>352100.0</td>\n",
       "      <td>NEAR BAY</td>\n",
       "    </tr>\n",
       "    <tr>\n",
       "      <th>3</th>\n",
       "      <td>-122.25</td>\n",
       "      <td>37.85</td>\n",
       "      <td>52.0</td>\n",
       "      <td>1274.0</td>\n",
       "      <td>235.0</td>\n",
       "      <td>558.0</td>\n",
       "      <td>219.0</td>\n",
       "      <td>5.6431</td>\n",
       "      <td>341300.0</td>\n",
       "      <td>NEAR BAY</td>\n",
       "    </tr>\n",
       "    <tr>\n",
       "      <th>4</th>\n",
       "      <td>-122.25</td>\n",
       "      <td>37.85</td>\n",
       "      <td>52.0</td>\n",
       "      <td>1627.0</td>\n",
       "      <td>280.0</td>\n",
       "      <td>565.0</td>\n",
       "      <td>259.0</td>\n",
       "      <td>3.8462</td>\n",
       "      <td>342200.0</td>\n",
       "      <td>NEAR BAY</td>\n",
       "    </tr>\n",
       "  </tbody>\n",
       "</table>\n",
       "</div>"
      ],
      "text/plain": [
       "   longitude  latitude  housing_median_age  total_rooms  total_bedrooms  \\\n",
       "0    -122.23     37.88                41.0        880.0           129.0   \n",
       "1    -122.22     37.86                21.0       7099.0          1106.0   \n",
       "2    -122.24     37.85                52.0       1467.0           190.0   \n",
       "3    -122.25     37.85                52.0       1274.0           235.0   \n",
       "4    -122.25     37.85                52.0       1627.0           280.0   \n",
       "\n",
       "   population  households  median_income  median_house_value ocean_proximity  \n",
       "0       322.0       126.0         8.3252            452600.0        NEAR BAY  \n",
       "1      2401.0      1138.0         8.3014            358500.0        NEAR BAY  \n",
       "2       496.0       177.0         7.2574            352100.0        NEAR BAY  \n",
       "3       558.0       219.0         5.6431            341300.0        NEAR BAY  \n",
       "4       565.0       259.0         3.8462            342200.0        NEAR BAY  "
      ]
     },
     "execution_count": 2,
     "metadata": {},
     "output_type": "execute_result"
    }
   ],
   "source": [
    "df = pd.read_csv('housing.csv')\n",
    "df.head()"
   ]
  },
  {
   "cell_type": "markdown",
   "id": "8d545f20",
   "metadata": {},
   "source": [
    "# Data Preprocessing and cleaning"
   ]
  },
  {
   "cell_type": "code",
   "execution_count": 3,
   "id": "052bf17c",
   "metadata": {},
   "outputs": [
    {
     "name": "stdout",
     "output_type": "stream",
     "text": [
      "<class 'pandas.core.frame.DataFrame'>\n",
      "RangeIndex: 20640 entries, 0 to 20639\n",
      "Data columns (total 10 columns):\n",
      " #   Column              Non-Null Count  Dtype  \n",
      "---  ------              --------------  -----  \n",
      " 0   longitude           20640 non-null  float64\n",
      " 1   latitude            20640 non-null  float64\n",
      " 2   housing_median_age  20640 non-null  float64\n",
      " 3   total_rooms         20640 non-null  float64\n",
      " 4   total_bedrooms      20433 non-null  float64\n",
      " 5   population          20640 non-null  float64\n",
      " 6   households          20640 non-null  float64\n",
      " 7   median_income       20640 non-null  float64\n",
      " 8   median_house_value  20640 non-null  float64\n",
      " 9   ocean_proximity     20640 non-null  object \n",
      "dtypes: float64(9), object(1)\n",
      "memory usage: 1.6+ MB\n"
     ]
    }
   ],
   "source": [
    "df.info()"
   ]
  },
  {
   "cell_type": "code",
   "execution_count": 4,
   "id": "d234c119",
   "metadata": {},
   "outputs": [
    {
     "data": {
      "text/plain": [
       "longitude               0\n",
       "latitude                0\n",
       "housing_median_age      0\n",
       "total_rooms             0\n",
       "total_bedrooms        207\n",
       "population              0\n",
       "households              0\n",
       "median_income           0\n",
       "median_house_value      0\n",
       "ocean_proximity         0\n",
       "dtype: int64"
      ]
     },
     "execution_count": 4,
     "metadata": {},
     "output_type": "execute_result"
    }
   ],
   "source": [
    "df.isnull().sum()"
   ]
  },
  {
   "cell_type": "code",
   "execution_count": 6,
   "id": "ada2ee54",
   "metadata": {},
   "outputs": [],
   "source": [
    "# drop rows with missing values\n",
    "df.dropna(axis=0, inplace=True)"
   ]
  },
  {
   "cell_type": "code",
   "execution_count": 7,
   "id": "112bb7b8",
   "metadata": {},
   "outputs": [
    {
     "data": {
      "text/plain": [
       "(20433, 10)"
      ]
     },
     "execution_count": 7,
     "metadata": {},
     "output_type": "execute_result"
    }
   ],
   "source": [
    "df.shape"
   ]
  },
  {
   "cell_type": "code",
   "execution_count": 9,
   "id": "40675f02",
   "metadata": {},
   "outputs": [
    {
     "data": {
      "text/plain": [
       "ocean_proximity\n",
       "<1H OCEAN     9034\n",
       "INLAND        6496\n",
       "NEAR OCEAN    2628\n",
       "NEAR BAY      2270\n",
       "ISLAND           5\n",
       "Name: count, dtype: int64"
      ]
     },
     "execution_count": 9,
     "metadata": {},
     "output_type": "execute_result"
    }
   ],
   "source": [
    "df['ocean_proximity'].value_counts()"
   ]
  },
  {
   "cell_type": "code",
   "execution_count": 10,
   "id": "6174e294",
   "metadata": {},
   "outputs": [],
   "source": [
    "df['ocean_proximity'] = df['ocean_proximity'].map({\"<1H OCEAN\":0,\"INLAND\":1,\"NEAR OCEAN\":2,\"NEAR BAY\":3,\"ISLAND\":4})"
   ]
  },
  {
   "cell_type": "code",
   "execution_count": 11,
   "id": "2cadcc4d",
   "metadata": {},
   "outputs": [
    {
     "data": {
      "text/html": [
       "<div>\n",
       "<style scoped>\n",
       "    .dataframe tbody tr th:only-of-type {\n",
       "        vertical-align: middle;\n",
       "    }\n",
       "\n",
       "    .dataframe tbody tr th {\n",
       "        vertical-align: top;\n",
       "    }\n",
       "\n",
       "    .dataframe thead th {\n",
       "        text-align: right;\n",
       "    }\n",
       "</style>\n",
       "<table border=\"1\" class=\"dataframe\">\n",
       "  <thead>\n",
       "    <tr style=\"text-align: right;\">\n",
       "      <th></th>\n",
       "      <th>longitude</th>\n",
       "      <th>latitude</th>\n",
       "      <th>housing_median_age</th>\n",
       "      <th>total_rooms</th>\n",
       "      <th>total_bedrooms</th>\n",
       "      <th>population</th>\n",
       "      <th>households</th>\n",
       "      <th>median_income</th>\n",
       "      <th>median_house_value</th>\n",
       "      <th>ocean_proximity</th>\n",
       "    </tr>\n",
       "  </thead>\n",
       "  <tbody>\n",
       "    <tr>\n",
       "      <th>0</th>\n",
       "      <td>-122.23</td>\n",
       "      <td>37.88</td>\n",
       "      <td>41.0</td>\n",
       "      <td>880.0</td>\n",
       "      <td>129.0</td>\n",
       "      <td>322.0</td>\n",
       "      <td>126.0</td>\n",
       "      <td>8.3252</td>\n",
       "      <td>452600.0</td>\n",
       "      <td>3</td>\n",
       "    </tr>\n",
       "    <tr>\n",
       "      <th>1</th>\n",
       "      <td>-122.22</td>\n",
       "      <td>37.86</td>\n",
       "      <td>21.0</td>\n",
       "      <td>7099.0</td>\n",
       "      <td>1106.0</td>\n",
       "      <td>2401.0</td>\n",
       "      <td>1138.0</td>\n",
       "      <td>8.3014</td>\n",
       "      <td>358500.0</td>\n",
       "      <td>3</td>\n",
       "    </tr>\n",
       "    <tr>\n",
       "      <th>2</th>\n",
       "      <td>-122.24</td>\n",
       "      <td>37.85</td>\n",
       "      <td>52.0</td>\n",
       "      <td>1467.0</td>\n",
       "      <td>190.0</td>\n",
       "      <td>496.0</td>\n",
       "      <td>177.0</td>\n",
       "      <td>7.2574</td>\n",
       "      <td>352100.0</td>\n",
       "      <td>3</td>\n",
       "    </tr>\n",
       "    <tr>\n",
       "      <th>3</th>\n",
       "      <td>-122.25</td>\n",
       "      <td>37.85</td>\n",
       "      <td>52.0</td>\n",
       "      <td>1274.0</td>\n",
       "      <td>235.0</td>\n",
       "      <td>558.0</td>\n",
       "      <td>219.0</td>\n",
       "      <td>5.6431</td>\n",
       "      <td>341300.0</td>\n",
       "      <td>3</td>\n",
       "    </tr>\n",
       "    <tr>\n",
       "      <th>4</th>\n",
       "      <td>-122.25</td>\n",
       "      <td>37.85</td>\n",
       "      <td>52.0</td>\n",
       "      <td>1627.0</td>\n",
       "      <td>280.0</td>\n",
       "      <td>565.0</td>\n",
       "      <td>259.0</td>\n",
       "      <td>3.8462</td>\n",
       "      <td>342200.0</td>\n",
       "      <td>3</td>\n",
       "    </tr>\n",
       "  </tbody>\n",
       "</table>\n",
       "</div>"
      ],
      "text/plain": [
       "   longitude  latitude  housing_median_age  total_rooms  total_bedrooms  \\\n",
       "0    -122.23     37.88                41.0        880.0           129.0   \n",
       "1    -122.22     37.86                21.0       7099.0          1106.0   \n",
       "2    -122.24     37.85                52.0       1467.0           190.0   \n",
       "3    -122.25     37.85                52.0       1274.0           235.0   \n",
       "4    -122.25     37.85                52.0       1627.0           280.0   \n",
       "\n",
       "   population  households  median_income  median_house_value  ocean_proximity  \n",
       "0       322.0       126.0         8.3252            452600.0                3  \n",
       "1      2401.0      1138.0         8.3014            358500.0                3  \n",
       "2       496.0       177.0         7.2574            352100.0                3  \n",
       "3       558.0       219.0         5.6431            341300.0                3  \n",
       "4       565.0       259.0         3.8462            342200.0                3  "
      ]
     },
     "execution_count": 11,
     "metadata": {},
     "output_type": "execute_result"
    }
   ],
   "source": [
    "df.head()"
   ]
  },
  {
   "cell_type": "markdown",
   "id": "b7ef4a1f",
   "metadata": {},
   "source": [
    "# Train test split"
   ]
  },
  {
   "cell_type": "code",
   "execution_count": 13,
   "id": "0e4969f0",
   "metadata": {},
   "outputs": [
    {
     "name": "stdout",
     "output_type": "stream",
     "text": [
      "(20433, 9)\n",
      "(20433,)\n"
     ]
    }
   ],
   "source": [
    "# Target variable is 'median_house_value'\n",
    "y = df['median_house_value']\n",
    "x = df.drop('median_house_value', axis=1)\n",
    "print(x.shape)\n",
    "print(y.shape)"
   ]
  },
  {
   "cell_type": "code",
   "execution_count": 14,
   "id": "4d93f801",
   "metadata": {},
   "outputs": [],
   "source": [
    "# convert to numpy array\n",
    "x = np.array(x)\n",
    "y = np.array(y)"
   ]
  },
  {
   "cell_type": "code",
   "execution_count": 15,
   "id": "02065d55",
   "metadata": {},
   "outputs": [
    {
     "name": "stdout",
     "output_type": "stream",
     "text": [
      "(16346, 9)\n",
      "(4087, 9)\n",
      "(16346,)\n",
      "(4087,)\n"
     ]
    }
   ],
   "source": [
    "x_train, x_test, y_train, y_test = train_test_split(x, y, test_size=0.2, random_state=123)\n",
    "\n",
    "print(x_train.shape)\n",
    "print(x_test.shape)\n",
    "print(y_train.shape)\n",
    "print(y_test.shape)"
   ]
  },
  {
   "cell_type": "markdown",
   "id": "092a1881",
   "metadata": {},
   "source": [
    "# Scaling"
   ]
  },
  {
   "cell_type": "code",
   "execution_count": 16,
   "id": "4b22ec32",
   "metadata": {},
   "outputs": [],
   "source": [
    "# Use MinMax scaler\n",
    "min_max_scaler = MinMaxScaler()\n",
    "x_train = min_max_scaler.fit_transform(x_train)\n",
    "x_test = min_max_scaler.transform(x_test)"
   ]
  },
  {
   "cell_type": "code",
   "execution_count": 17,
   "id": "f9b4c3ca",
   "metadata": {},
   "outputs": [
    {
     "name": "stdout",
     "output_type": "stream",
     "text": [
      "[[0.54425229 0.30180659 0.66666667 ... 0.06101974 0.21336947 0.25      ]\n",
      " [0.30315361 0.58448459 0.56862745 ... 0.00707237 0.27586516 0.25      ]\n",
      " [0.6948118  0.16790648 0.09803922 ... 0.25542763 0.25377581 0.25      ]\n",
      " ...\n",
      " [0.23601221 0.51328374 0.68627451 ... 0.05411184 0.2810375  0.        ]\n",
      " [0.19226857 0.55366631 1.         ... 0.06069079 0.26132053 0.75      ]\n",
      " [0.51068159 0.19978746 0.43137255 ... 0.12648026 0.29727866 0.5       ]]\n",
      "[[0.71922686 0.02231668 0.43137255 ... 0.09769737 0.18199749 0.5       ]\n",
      " [0.30620549 0.64718385 0.45098039 ... 0.07976974 0.19436284 0.25      ]\n",
      " [0.3387589  0.54091392 0.74509804 ... 0.09917763 0.08313678 0.25      ]\n",
      " ...\n",
      " [0.15055951 0.62274176 0.76470588 ... 0.06973684 0.23342437 0.        ]\n",
      " [0.6103764  0.17534538 1.         ... 0.04276316 0.29645798 0.        ]\n",
      " [0.72227874 0.08926674 0.25490196 ... 0.13289474 0.31384395 0.        ]]\n"
     ]
    }
   ],
   "source": [
    "print(x_train)\n",
    "print(x_test)"
   ]
  },
  {
   "cell_type": "code",
   "execution_count": 19,
   "id": "2c1a0a1e",
   "metadata": {},
   "outputs": [
    {
     "data": {
      "text/plain": [
       "9"
      ]
     },
     "execution_count": 19,
     "metadata": {},
     "output_type": "execute_result"
    }
   ],
   "source": [
    "x_train.shape[1]"
   ]
  },
  {
   "cell_type": "markdown",
   "id": "8c916e56",
   "metadata": {},
   "source": [
    "# Building  model (ANN)"
   ]
  },
  {
   "cell_type": "code",
   "execution_count": 33,
   "id": "7ef50bc2",
   "metadata": {},
   "outputs": [
    {
     "name": "stdout",
     "output_type": "stream",
     "text": [
      "Model: \"sequential_2\"\n",
      "_________________________________________________________________\n",
      " Layer (type)                Output Shape              Param #   \n",
      "=================================================================\n",
      " dense_8 (Dense)             (None, 1000)              10000     \n",
      "                                                                 \n",
      " dropout (Dropout)           (None, 1000)              0         \n",
      "                                                                 \n",
      " dense_9 (Dense)             (None, 500)               500500    \n",
      "                                                                 \n",
      " dropout_1 (Dropout)         (None, 500)               0         \n",
      "                                                                 \n",
      " dense_10 (Dense)            (None, 250)               125250    \n",
      "                                                                 \n",
      " dense_11 (Dense)            (None, 1)                 251       \n",
      "                                                                 \n",
      "=================================================================\n",
      "Total params: 636,001\n",
      "Trainable params: 636,001\n",
      "Non-trainable params: 0\n",
      "_________________________________________________________________\n"
     ]
    }
   ],
   "source": [
    "model = Sequential([\n",
    "    #input layer\n",
    "    Dense(1000, input_shape=(x_train.shape[1],), activation='relu'),\n",
    "    Dropout(0.2),\n",
    "    #two hidden layers\n",
    "    Dense(500, activation='relu'),\n",
    "    Dropout(0.2),\n",
    "    Dense(250, activation='relu'),\n",
    "    #output layer\n",
    "    Dense(1,activation='linear') # here 1 shows countinuous value(regression) \n",
    "])\n",
    "model.summary()"
   ]
  },
  {
   "cell_type": "markdown",
   "id": "41b3ea1a",
   "metadata": {},
   "source": [
    "Total Parameters: The \"Total params\" section indicates that the model has a total of 636,001 parameters. These are the weights and biases that the model will learn during training.\n",
    "\n",
    "Trainable Parameters: The \"Trainable params\" section shows that all 636,001 parameters in the model are trainable, meaning they will be updated and adjusted during training to optimize the model's performance.\n",
    "\n",
    "Non-trainable Parameters: The \"Non-trainable params\" section is typically 0, which means there are no parameters that won't be updated during training."
   ]
  },
  {
   "cell_type": "code",
   "execution_count": 34,
   "id": "d022e269",
   "metadata": {},
   "outputs": [],
   "source": [
    "# Compile the model and set easlystoping\n",
    "model.compile(optimizer='rmsprop', loss='mse', metrics=['mae'])\n",
    "es = EarlyStopping(monitor='val_loss',mode='min',patience=50, restore_best_weights=True)"
   ]
  },
  {
   "cell_type": "code",
   "execution_count": 35,
   "id": "49454186",
   "metadata": {},
   "outputs": [
    {
     "name": "stdout",
     "output_type": "stream",
     "text": [
      "Epoch 1/10\n",
      "327/327 [==============================] - 7s 19ms/step - loss: 24388388864.0000 - mae: 119965.7734 - val_loss: 10522592256.0000 - val_mae: 81764.5391\n",
      "Epoch 2/10\n",
      "327/327 [==============================] - 6s 18ms/step - loss: 9308964864.0000 - mae: 76560.1719 - val_loss: 6976459264.0000 - val_mae: 63708.0664\n",
      "Epoch 3/10\n",
      "327/327 [==============================] - 6s 18ms/step - loss: 6368715264.0000 - mae: 60119.2539 - val_loss: 5632238592.0000 - val_mae: 55683.6992\n",
      "Epoch 4/10\n",
      "327/327 [==============================] - 6s 19ms/step - loss: 5919465984.0000 - mae: 56548.8125 - val_loss: 5483844096.0000 - val_mae: 53365.9258\n",
      "Epoch 5/10\n",
      "327/327 [==============================] - 6s 19ms/step - loss: 5733347840.0000 - mae: 55333.3594 - val_loss: 5339340288.0000 - val_mae: 54754.6289\n",
      "Epoch 6/10\n",
      "327/327 [==============================] - 6s 19ms/step - loss: 5532442624.0000 - mae: 54176.8906 - val_loss: 5190038528.0000 - val_mae: 53916.0586\n",
      "Epoch 7/10\n",
      "327/327 [==============================] - 7s 20ms/step - loss: 5356131840.0000 - mae: 53017.4922 - val_loss: 4990651392.0000 - val_mae: 49972.5508\n",
      "Epoch 8/10\n",
      "327/327 [==============================] - 6s 18ms/step - loss: 5187715072.0000 - mae: 51956.9531 - val_loss: 4766701568.0000 - val_mae: 49638.2539\n",
      "Epoch 9/10\n",
      "327/327 [==============================] - 6s 20ms/step - loss: 5038859264.0000 - mae: 50924.1484 - val_loss: 4625208832.0000 - val_mae: 49000.5078\n",
      "Epoch 10/10\n",
      "327/327 [==============================] - 6s 19ms/step - loss: 4895328768.0000 - mae: 50096.3516 - val_loss: 4498054656.0000 - val_mae: 47758.2969\n"
     ]
    }
   ],
   "source": [
    "# fit the model (training)\n",
    "history = model.fit(x_train, y_train, validation_data= (x_test, y_test), callbacks=[es], epochs=10, batch_size=50, verbose=1)"
   ]
  },
  {
   "cell_type": "markdown",
   "id": "230b2be6",
   "metadata": {},
   "source": [
    "# Metrics and Score"
   ]
  },
  {
   "cell_type": "code",
   "execution_count": 36,
   "id": "98035b1f",
   "metadata": {},
   "outputs": [
    {
     "name": "stdout",
     "output_type": "stream",
     "text": [
      "128/128 [==============================] - 1s 4ms/step\n",
      "mae : 47758.295722336065\n",
      "mse : 4498054360.101551\n",
      "mae : 0.10705551804916344\n",
      "score : 0.6491880522050141\n"
     ]
    }
   ],
   "source": [
    "from sklearn.metrics import r2_score,mean_absolute_error,mean_squared_error,mean_squared_log_error\n",
    "\n",
    "y_pred = model.predict(x_test)\n",
    "print(\"mae :\", mean_absolute_error(y_test,y_pred))\n",
    "print(\"mse :\", mean_squared_error(y_test,y_pred))\n",
    "print(\"mae :\", mean_squared_log_error(y_test,y_pred))\n",
    "print(\"score :\", r2_score(y_test,y_pred))"
   ]
  },
  {
   "cell_type": "code",
   "execution_count": 31,
   "id": "3e91ef15",
   "metadata": {},
   "outputs": [
    {
     "data": {
      "image/png": "[encoded data removed]",
      "text/plain": [
       "<Figure size 432x288 with 1 Axes>"
      ]
     },
     "metadata": {
      "needs_background": "light"
     },
     "output_type": "display_data"
    }
   ],
   "source": [
    "# Get the training and validation loss from the history object\n",
    "training_loss = history.history['loss']\n",
    "validation_loss = history.history['val_loss']\n",
    "epochs = range(1, len(train_loss) + 1)\n",
    "# Plot the training and validation loss\n",
    "plt.plot(epochs, training_loss, 'b', label='Training Loss')\n",
    "plt.plot(epochs, validation_loss, 'r', label='Validation Loss')\n",
    "\n",
    "# Label the plot\n",
    "plt.title('Training and Validation Loss')\n",
    "plt.xlabel('Epochs')\n",
    "plt.ylabel('Loss')\n",
    "plt.legend()\n",
    "\n",
    "# Show the plot\n",
    "plt.show()"
   ]
  },
  {
   "cell_type": "code",
   "execution_count": 20,
   "id": "bfbcc758",
   "metadata": {},
   "outputs": [
    {
     "name": "stdout",
     "output_type": "stream",
     "text": [
      "511/511 [==============================] - 2s 4ms/step\n",
      "128/128 [==============================] - 1s 5ms/step\n"
     ]
    },
    {
     "data": {
      "image/png": "[encoded data removed]",
      "text/plain": [
       "<Figure size 640x480 with 2 Axes>"
      ]
     },
     "metadata": {},
     "output_type": "display_data"
    }
   ],
   "source": [
    "# Specify the dimensions \n",
    "fig, axes = plt.subplots(1,2)\n",
    "\n",
    "# This makes the individual subplots\n",
    "# Training Results\n",
    "axes[0].scatter(x=y_train, y=model.predict(x_train))\n",
    "axes[0].set_xlabel('Actual', fontsize=10)\n",
    "axes[0].set_ylabel('Prediction', fontsize=10)\n",
    "axes[0].set_title('Training')\n",
    "\n",
    "# Add 45 deg line\n",
    "x = np.linspace(*axes[0].get_xlim())\n",
    "axes[0].plot(x, x, color='red')\n",
    "\n",
    "# Validation Results\n",
    "axes[1].scatter(x=y_test, y=model.predict(x_test))\n",
    "axes[1].set_xlabel('Actual', fontsize=10)\n",
    "axes[1].set_ylabel('Predicted', fontsize=10)\n",
    "axes[1].set_title('Validation')\n",
    "\n",
    "# add 45 deg line\n",
    "x = np.linspace(*axes[1].get_xlim())\n",
    "axes[1].plot(x, x, color='red')\n",
    "\n",
    "# Tight layout\n",
    "fig.tight_layout()\n",
    "plt.show()\n"
   ]
  },
  {
   "cell_type": "markdown",
   "id": "a496d875",
   "metadata": {},
   "source": [
    "# Predictive System"
   ]
  },
  {
   "cell_type": "code",
   "execution_count": 47,
   "id": "123742e7",
   "metadata": {},
   "outputs": [],
   "source": [
    "def pred(longitude,latitude,housing_median_age,total_rooms,total_bedrooms,population,households,median_income,ocean_proximity):\n",
    "    features = np.array([longitude,latitude,housing_median_age,total_rooms,total_bedrooms,population,households,median_income,ocean_proximity])\n",
    "    features_scaled = min_max_scaler.fit_transform([features])\n",
    "    results = model.predict(features_scaled).reshape(1,-1)\n",
    "    return results[0]"
   ]
  },
  {
   "cell_type": "code",
   "execution_count": 48,
   "id": "bce34cc1",
   "metadata": {},
   "outputs": [
    {
     "name": "stdout",
     "output_type": "stream",
     "text": [
      "1/1 [==============================] - 0s 29ms/step\n"
     ]
    }
   ],
   "source": [
    "longitude = -122.2300\n",
    "latitude  = 37.8800\n",
    "housing_median_age  = 41.0000\n",
    "total_rooms        = 880.0000\n",
    "total_bedrooms   =  129.0000\n",
    "population     = 322.0000\n",
    "households          =    126.0000\n",
    "median_income       =      8.3252\n",
    "ocean_proximity       =     3.0000\n",
    "\n",
    "price = pred(longitude,latitude,housing_median_age,total_rooms,total_bedrooms,population,households,median_income,ocean_proximity)"
   ]
  },
  {
   "cell_type": "code",
   "execution_count": 49,
   "id": "1f5dc36a",
   "metadata": {},
   "outputs": [
    {
     "data": {
      "text/plain": [
       "array([269119.28], dtype=float32)"
      ]
     },
     "execution_count": 49,
     "metadata": {},
     "output_type": "execute_result"
    }
   ],
   "source": [
    "price #  452600.0000 # actual value"
   ]
  },
  {
   "cell_type": "markdown",
   "id": "2e2e1ecc",
   "metadata": {},
   "source": [
    "# Save model"
   ]
  },
  {
   "cell_type": "code",
   "execution_count": 51,
   "id": "5c1e9be0",
   "metadata": {},
   "outputs": [],
   "source": [
    "model.save(\"model_ann.h5\")\n",
    "\n",
    "import pickle\n",
    "pickle.dump(min_max_scaler,open('scaler.pkl','wb'))"
   ]
  },
  {
   "cell_type": "markdown",
   "id": "577e9ec6",
   "metadata": {},
   "source": [
    "# Check version and install the same in pycharm (in production)"
   ]
  },
  {
   "cell_type": "code",
   "execution_count": 52,
   "id": "ab8a3499",
   "metadata": {},
   "outputs": [
    {
     "name": "stdout",
     "output_type": "stream",
     "text": [
      "scikit-learn version: 1.2.2\n",
      "TensorFlow version: 2.12.0\n",
      "Keras version: 2.12.0\n"
     ]
    }
   ],
   "source": [
    "import sklearn\n",
    "import tensorflow as tf\n",
    "import keras\n",
    "\n",
    "print(\"scikit-learn version:\", sklearn.__version__)\n",
    "print(\"TensorFlow version:\", tf.__version__)\n",
    "print(\"Keras version:\", keras.__version__)\n"
   ]
  },
  {
   "cell_type": "code",
   "execution_count": null,
   "id": "442b8f96",
   "metadata": {},
   "outputs": [],
   "source": []
  }
 ],
 "metadata": {
  "kernelspec": {
   "display_name": "Python 3 (ipykernel)",
   "language": "python",
   "name": "python3"
  },
  "language_info": {
   "codemirror_mode": {
    "name": "ipython",
    "version": 3
   },
   "file_extension": ".py",
   "mimetype": "text/x-python",
   "name": "python",
   "nbconvert_exporter": "python",
   "pygments_lexer": "ipython3",
   "version": "3.9.12"
  }
 },
 "nbformat": 4,
 "nbformat_minor": 5
}
